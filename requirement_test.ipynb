{
 "cells": [
  {
   "cell_type": "code",
   "execution_count": 1,
   "metadata": {},
   "outputs": [
    {
     "name": "stdout",
     "output_type": "stream",
     "text": [
      "hello worlds\n"
     ]
    }
   ],
   "source": [
    "print(\"hello worlds\")"
   ]
  },
  {
   "cell_type": "code",
   "execution_count": 4,
   "metadata": {},
   "outputs": [
    {
     "name": "stdout",
     "output_type": "stream",
     "text": [
      "0.10.0.0\n"
     ]
    }
   ],
   "source": [
    "import open3d as o3d\n",
    "print(o3d.__version__)"
   ]
  },
  {
   "cell_type": "code",
   "execution_count": 3,
   "metadata": {},
   "outputs": [
    {
     "name": "stdout",
     "output_type": "stream",
     "text": [
      "0.5.4\n"
     ]
    }
   ],
   "source": [
    "import MinkowskiEngine as ME\n",
    "print(ME.__version__)"
   ]
  },
  {
   "cell_type": "code",
   "execution_count": 8,
   "metadata": {},
   "outputs": [
    {
     "name": "stdout",
     "output_type": "stream",
     "text": [
      "1.10.1\n",
      "cuda enable:  True\n",
      "cuda device:  2\n"
     ]
    }
   ],
   "source": [
    "import torch\n",
    "print(torch.__version__)\n",
    "print(\"cuda enable: \", torch.cuda.is_available())\n",
    "print(\"cuda device: \", torch.cuda.device_count())"
   ]
  },
  {
   "cell_type": "code",
   "execution_count": 45,
   "metadata": {},
   "outputs": [
    {
     "name": "stdout",
     "output_type": "stream",
     "text": [
      "Format = auto\n",
      "Extension = ply\n",
      "coord: <class 'torch.Tensor'>\n",
      " tensor([[  0,   0,   4,  16],\n",
      "        [  0,   1,   4,  16],\n",
      "        [  0,   2,   4,  16],\n",
      "        ...,\n",
      "        [  0,  -9, -27,  69],\n",
      "        [  0,  -8, -27,  69],\n",
      "        [  0, -10, -26,  69]], dtype=torch.int32)\n",
      "feats: <class 'torch.Tensor'>\n",
      " tensor([[1.],\n",
      "        [1.],\n",
      "        [1.],\n",
      "        ...,\n",
      "        [1.],\n",
      "        [1.],\n",
      "        [1.]])\n"
     ]
    }
   ],
   "source": [
    "import open3d as o3d\n",
    "import MinkowskiEngine as ME\n",
    "import torch\n",
    "import numpy as np\n",
    "\n",
    "def preprocess(pcd):\n",
    "    '''\n",
    "    Stage 0: preprocess raw input point cloud\n",
    "    Input: raw point cloud\n",
    "    Output: voxelized point cloud with\n",
    "    - xyz:    unique point cloud with one point per voxel\n",
    "    - coords: coords after voxelization\n",
    "    - feats:  dummy feature placeholder for general sparse convolution\n",
    "    '''\n",
    "    if isinstance(pcd, o3d.geometry.PointCloud):\n",
    "        xyz = np.array(pcd.points)\n",
    "    elif isinstance(pcd, np.ndarray):\n",
    "        xyz = pcd\n",
    "    else:\n",
    "        raise Exception('Unrecognized pcd type')\n",
    "\n",
    "    # Voxelization:\n",
    "    # Maintain double type for xyz to improve numerical accuracy in quantization\n",
    "    sel = ME.utils.sparse_quantize(\n",
    "        coordinates=xyz,\n",
    "        quantization_size=0.05,\n",
    "        return_index=True)\n",
    "    npts = len(sel[1])\n",
    "    xyz = torch.from_numpy(xyz[sel[1]])\n",
    "\n",
    "    # ME standard batch coordinates\n",
    "    coords = ME.utils.batched_coordinates(\n",
    "        [torch.floor(xyz / 0.05).int()])\n",
    "    feats = torch.ones(npts, 1)\n",
    "\n",
    "    return xyz.float(), coords, feats\n",
    "\n",
    "pcd = o3d.io.read_point_cloud(\"redkitchen_000.ply\")\n",
    "pcd.estimate_normals()\n",
    "\n",
    "xyz, coords, feats = preprocess(pcd)\n",
    "# print(xyz)\n",
    "print(\"coord: {t}\\n\".format(t=type(coords)), coords)\n",
    "print(\"feats: {t}\\n\".format(t=type(feats)), feats)"
   ]
  },
  {
   "cell_type": "code",
   "execution_count": 49,
   "metadata": {},
   "outputs": [
    {
     "data": {
      "text/plain": [
       "True"
      ]
     },
     "execution_count": 49,
     "metadata": {},
     "output_type": "execute_result"
    }
   ],
   "source": [
    "# output of demo, transformation matrix T\n",
    "# [[ 0.99972518  0.01974154  0.0126477  -0.70827058]\n",
    "#  [-0.02042991  0.99817484  0.05683022  0.18280375]\n",
    "#  [-0.0115027  -0.05707298  0.99830381 -0.18114951]\n",
    "#  [ 0.          0.          0.          1.        ]]\n",
    "\n",
    "T = np.array(\n",
    "    [\n",
    "    [ 0.99972518,  0.01974154,  0.0126477,  -0.70827058],\n",
    "    [-0.02042991,  0.99817484,  0.05683022,  0.18280375],\n",
    "    [-0.0115027,  -0.05707298,  0.99830381, -0.18114951],\n",
    "    [ 0.,          0.,          0.,          1.,        ]\n",
    "    ]\n",
    ")\n",
    "\n",
    "pcd.transform(T)\n",
    "o3d.io.write_point_cloud(\"demo_output.ply\", pcd)"
   ]
  }
 ],
 "metadata": {
  "kernelspec": {
   "display_name": "Python 3.8.15 ('py3-mink')",
   "language": "python",
   "name": "python3"
  },
  "language_info": {
   "codemirror_mode": {
    "name": "ipython",
    "version": 3
   },
   "file_extension": ".py",
   "mimetype": "text/x-python",
   "name": "python",
   "nbconvert_exporter": "python",
   "pygments_lexer": "ipython3",
   "version": "3.8.15"
  },
  "orig_nbformat": 4,
  "vscode": {
   "interpreter": {
    "hash": "2bf340d825427a6f14d736abb0da518bbca0681cd9f371f9b94857c882bfca19"
   }
  }
 },
 "nbformat": 4,
 "nbformat_minor": 2
}
