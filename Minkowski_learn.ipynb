{
 "cells": [
  {
   "cell_type": "code",
   "execution_count": 1,
   "metadata": {},
   "outputs": [
    {
     "data": {
      "text/plain": [
       "(tensor([[0, 2],\n",
       "         [1, 1],\n",
       "         [1, 2],\n",
       "         [1, 3],\n",
       "         [2, 2]], dtype=torch.int32),\n",
       " tensor([[2.1000],\n",
       "         [1.0000],\n",
       "         [1.4000],\n",
       "         [3.0000],\n",
       "         [4.0000]]))"
      ]
     },
     "execution_count": 1,
     "metadata": {},
     "output_type": "execute_result"
    }
   ],
   "source": [
    "import torch\n",
    "import MinkowskiEngine as ME\n",
    "\n",
    "data = [\n",
    "    [0, 0, 2.1, 0, 0],\n",
    "    [0, 1, 1.4, 3, 0],\n",
    "    [0, 0, 4.0, 0, 0]\n",
    "]\n",
    "\n",
    "def to_sparse_coo(data):\n",
    "    # An intuitive way to extract coordinates and features\n",
    "    coords, feats = [], []\n",
    "    for i, row in enumerate(data):\n",
    "        for j, val in enumerate(row):\n",
    "            if val != 0:\n",
    "                coords.append([i, j])\n",
    "                feats.append([val])\n",
    "    return torch.IntTensor(coords), torch.FloatTensor(feats)\n",
    "\n",
    "to_sparse_coo(data)"
   ]
  },
  {
   "cell_type": "code",
   "execution_count": 11,
   "metadata": {},
   "outputs": [
    {
     "name": "stdout",
     "output_type": "stream",
     "text": [
      "<class 'torch.Tensor'>\n",
      "tensor([[143.,  52.,  75.],\n",
      "        [121.,  97., 114.],\n",
      "        [ 36.,  32.,  86.],\n",
      "        ...,\n",
      "        [ 66.,  30., 134.],\n",
      "        [ 82., 151., 182.],\n",
      "        [121.,  99., 113.]], device='cuda:0', dtype=torch.float64)\n"
     ]
    }
   ],
   "source": [
    "import torch\n",
    "import MinkowskiEngine as ME\n",
    "import numpy as np\n",
    "\n",
    "pc_1 = np.random.rand(8192,3) * 20\n",
    "voxel_size = 0.1\n",
    "\n",
    "# Voxelization\n",
    "_, sel1 = ME.utils.sparse_quantize(pc_1 / voxel_size, return_index=True)\n",
    "\n",
    "# Slect the voxelized points\n",
    "pc_1 = pc_1[sel1,:]\n",
    "\n",
    "# Get sparse indices\n",
    "coords1 = np.floor(pc_1 / voxel_size)\n",
    "\n",
    "# Use absolute features as input\n",
    "feats1 = coords1.copy()\n",
    "\n",
    "coords_batch1, feats_batch1 = ME.utils.sparse_collate(coords=[coords1], feats=[feats1])\n",
    "print(type(feats_batch1))\n",
    "sinput1 = ME.SparseTensor(features=feats_batch1,\n",
    "            coordinates=coords_batch1)\n",
    "sinput1_cuda = ME.SparseTensor(features=feats_batch1.to('cuda'),\n",
    "            coordinates=coords_batch1.to('cuda'))\n",
    "print(sinput1_cuda.F)\n",
    "# for b_idx in range(len(sinput1.decomposed_coordinates)):\n",
    "#     feat_s = sinput1.F[sinput1.C[:,0] == b_idx]\n",
    "\n",
    "#     print(sum(sinput1.C[:,0] == b_idx))\n",
    "#     print(sinput1.F.shape)\n",
    "#     print(feat_s.shape)\n",
    "\n",
    "# for b_idx in range(len(sinput1_cuda.decomposed_coordinates)):\n",
    "#     feat_s_cuda = sinput1_cuda.F[sinput1_cuda.C[:,0] == b_idx]\n",
    "\n",
    "#     print(sum(sinput1_cuda.C[:,0] == b_idx))\n",
    "#     print(sinput1_cuda.F.shape)\n",
    "#     print(feat_s_cuda.shape)"
   ]
  }
 ],
 "metadata": {
  "kernelspec": {
   "display_name": "Python 3.8.15 ('py3-mink')",
   "language": "python",
   "name": "python3"
  },
  "language_info": {
   "codemirror_mode": {
    "name": "ipython",
    "version": 3
   },
   "file_extension": ".py",
   "mimetype": "text/x-python",
   "name": "python",
   "nbconvert_exporter": "python",
   "pygments_lexer": "ipython3",
   "version": "3.8.15"
  },
  "orig_nbformat": 4,
  "vscode": {
   "interpreter": {
    "hash": "2bf340d825427a6f14d736abb0da518bbca0681cd9f371f9b94857c882bfca19"
   }
  }
 },
 "nbformat": 4,
 "nbformat_minor": 2
}
